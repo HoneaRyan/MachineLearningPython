{
 "cells": [
  {
   "cell_type": "code",
   "execution_count": 1,
   "metadata": {
    "collapsed": true
   },
   "outputs": [],
   "source": [
    "# Miscellaneous Packages\n",
    "import numpy as np\n",
    "from matplotlib import pyplot as plt\n",
    "from matplotlib import cm\n",
    "from mnist import MNIST\n",
    "import random\n",
    "import numpy.linalg as la\n",
    "\n",
    "# ML Packages\n",
    "from scipy import stats\n",
    "from sklearn import datasets\n",
    "from sklearn.datasets import fetch_mldata"
   ]
  },
  {
   "cell_type": "code",
   "execution_count": 2,
   "metadata": {
    "collapsed": true
   },
   "outputs": [],
   "source": [
    "# Prepares Data\n",
    "def prepare_data():\n",
    "    mnist = fetch_mldata('MNIST original', data_home='./')\n",
    "    X = mnist.data\n",
    "    y = mnist.target\n",
    "    \n",
    "    return X, y"
   ]
  },
  {
   "cell_type": "code",
   "execution_count": 3,
   "metadata": {
    "collapsed": true
   },
   "outputs": [],
   "source": [
    "def separate(X, y, train_n):\n",
    "    shuf = random.sample(range(len(X)), train_n)\n",
    "    X_train = [X[i] for i in shuf]\n",
    "    y_train = [y[i] for i in shuf]\n",
    "    \n",
    "    shuf_comp = set(range(len(X))) - set(shuf)\n",
    "    X_test = [X[i] for i in shuf_comp]\n",
    "    y_test = [y[i] for i in shuf_comp]\n",
    "    return X_train, y_train, X_test, y_test"
   ]
  },
  {
   "cell_type": "code",
   "execution_count": 4,
   "metadata": {
    "collapsed": false
   },
   "outputs": [],
   "source": [
    "# Creates \"Average\" Numbers\n",
    "def train(train_nums, train_labels):\n",
    "    avg_num = []\n",
    "    for nums in range(10): \n",
    "        index = [i for i,x in enumerate(train_labels) if x == nums]\n",
    "        values = [train_nums[i] for i in index]\n",
    "        avg_num.append( np.sum(values, axis = 0)/len(values) )\n",
    "    return avg_num"
   ]
  },
  {
   "cell_type": "code",
   "execution_count": 5,
   "metadata": {
    "collapsed": false
   },
   "outputs": [],
   "source": [
    "# Predicts on Test Numbers\n",
    "def predict(test_nums, avgs):\n",
    "    labels = []\n",
    "    for i in range(len(test_nums)):\n",
    "        min_dist = la.norm(avgs[0]-test_nums[i]) ** 2\n",
    "        best_label = 0\n",
    "        for j in range(1,10):\n",
    "            dist = la.norm(avgs[j] - test_nums[i]) ** 2\n",
    "            if (dist <= min_dist):\n",
    "                min_dist = dist\n",
    "                best_label = j\n",
    "        labels.append(best_label)\n",
    "    return labels"
   ]
  },
  {
   "cell_type": "code",
   "execution_count": 6,
   "metadata": {
    "collapsed": false
   },
   "outputs": [],
   "source": [
    "def compute_accuracy(predictions, test_labels):\n",
    "    sum_correct = 0\n",
    "    for i in range(len(predictions)):\n",
    "        if (predictions[i] == test_labels[i]):\n",
    "            sum_correct = sum_correct + 1\n",
    "    return sum_correct/len(predictions)"
   ]
  },
  {
   "cell_type": "code",
   "execution_count": 7,
   "metadata": {
    "collapsed": false
   },
   "outputs": [
    {
     "name": "stderr",
     "output_type": "stream",
     "text": [
      "/usr/local/Cellar/python3/3.6.3/Frameworks/Python.framework/Versions/3.6/lib/python3.6/site-packages/ipykernel_launcher.py:7: RuntimeWarning: invalid value encountered in double_scalars\n",
      "  import sys\n"
     ]
    }
   ],
   "source": [
    "X, y = prepare_data()\n",
    "accuracies = []\n",
    "for i in range(5,2515,10):\n",
    "    X_train, y_train, X_test, y_test = separate(X, y, i)\n",
    "    avgs = train(X_train, y_train)\n",
    "    predictions = predict(X_test, avgs)\n",
    "    accuracies.append(compute_accuracy(predictions,y_test))"
   ]
  },
  {
   "cell_type": "code",
   "execution_count": null,
   "metadata": {
    "collapsed": true
   },
   "outputs": [],
   "source": []
  }
 ],
 "metadata": {
  "kernelspec": {
   "display_name": "Python 3",
   "language": "python",
   "name": "python3"
  },
  "language_info": {
   "codemirror_mode": {
    "name": "ipython",
    "version": 3
   },
   "file_extension": ".py",
   "mimetype": "text/x-python",
   "name": "python",
   "nbconvert_exporter": "python",
   "pygments_lexer": "ipython3",
   "version": "3.6.3"
  }
 },
 "nbformat": 4,
 "nbformat_minor": 2
}
